{
 "cells": [
  {
   "cell_type": "code",
   "execution_count": 75,
   "metadata": {
    "pycharm": {
     "is_executing": false
    }
   },
   "outputs": [
    {
     "data": {
      "text/html": [
       "<div>\n",
       "<style scoped>\n",
       "    .dataframe tbody tr th:only-of-type {\n",
       "        vertical-align: middle;\n",
       "    }\n",
       "\n",
       "    .dataframe tbody tr th {\n",
       "        vertical-align: top;\n",
       "    }\n",
       "\n",
       "    .dataframe thead th {\n",
       "        text-align: right;\n",
       "    }\n",
       "</style>\n",
       "<table border=\"1\" class=\"dataframe\">\n",
       "  <thead>\n",
       "    <tr style=\"text-align: right;\">\n",
       "      <th></th>\n",
       "      <th>Name</th>\n",
       "      <th>Type</th>\n",
       "      <th>Level</th>\n",
       "      <th>Race</th>\n",
       "      <th>Attribute</th>\n",
       "      <th>ATK</th>\n",
       "      <th>DEF</th>\n",
       "    </tr>\n",
       "  </thead>\n",
       "  <tbody>\n",
       "    <tr>\n",
       "      <td>0</td>\n",
       "      <td>Limit Reverse</td>\n",
       "      <td>Trap Card</td>\n",
       "      <td>NaN</td>\n",
       "      <td>Continuous</td>\n",
       "      <td>NaN</td>\n",
       "      <td>NaN</td>\n",
       "      <td>NaN</td>\n",
       "    </tr>\n",
       "    <tr>\n",
       "      <td>1</td>\n",
       "      <td>The 13th Grave</td>\n",
       "      <td>Normal Monster</td>\n",
       "      <td>3.0</td>\n",
       "      <td>Zombie</td>\n",
       "      <td>DARK</td>\n",
       "      <td>1200.0</td>\n",
       "      <td>900.0</td>\n",
       "    </tr>\n",
       "    <tr>\n",
       "      <td>2</td>\n",
       "      <td>Gem-Enhancement</td>\n",
       "      <td>Trap Card</td>\n",
       "      <td>NaN</td>\n",
       "      <td>Normal</td>\n",
       "      <td>NaN</td>\n",
       "      <td>NaN</td>\n",
       "      <td>NaN</td>\n",
       "    </tr>\n",
       "    <tr>\n",
       "      <td>3</td>\n",
       "      <td>Magician's Circle</td>\n",
       "      <td>Trap Card</td>\n",
       "      <td>NaN</td>\n",
       "      <td>Normal</td>\n",
       "      <td>NaN</td>\n",
       "      <td>NaN</td>\n",
       "      <td>NaN</td>\n",
       "    </tr>\n",
       "    <tr>\n",
       "      <td>4</td>\n",
       "      <td>Castle of Dark Illusions</td>\n",
       "      <td>Flip Effect Monster</td>\n",
       "      <td>4.0</td>\n",
       "      <td>Fiend</td>\n",
       "      <td>DARK</td>\n",
       "      <td>920.0</td>\n",
       "      <td>1930.0</td>\n",
       "    </tr>\n",
       "  </tbody>\n",
       "</table>\n",
       "</div>"
      ],
      "text/plain": [
       "                       Name                 Type  Level        Race Attribute  \\\n",
       "0             Limit Reverse            Trap Card    NaN  Continuous       NaN   \n",
       "1            The 13th Grave       Normal Monster    3.0      Zombie      DARK   \n",
       "2           Gem-Enhancement            Trap Card    NaN      Normal       NaN   \n",
       "3         Magician's Circle            Trap Card    NaN      Normal       NaN   \n",
       "4  Castle of Dark Illusions  Flip Effect Monster    4.0       Fiend      DARK   \n",
       "\n",
       "      ATK     DEF  \n",
       "0     NaN     NaN  \n",
       "1  1200.0   900.0  \n",
       "2     NaN     NaN  \n",
       "3     NaN     NaN  \n",
       "4   920.0  1930.0  "
      ]
     },
     "execution_count": 75,
     "metadata": {},
     "output_type": "execute_result"
    }
   ],
   "source": [
    "%matplotlib inline\n",
    "import matplotlib.pyplot as plt\n",
    "import pandas as pd\n",
    "\n",
    "all_cards = pd.read_csv('data/card_data.csv')\n",
    "\n",
    "# 属性あり <=> モンスター\n",
    "monsters = all_cards[pd.notnull(all_cards['Attribute'])]\n",
    "all_cards.head(5)"
   ]
  },
  {
   "cell_type": "code",
   "execution_count": 76,
   "metadata": {
    "pycharm": {
     "is_executing": false
    }
   },
   "outputs": [],
   "source": [
    "x = monsters.drop(columns='Attribute')\n",
    "t = monsters[['Attribute']]\n",
    "\n",
    "import sklearn.preprocessing as sp\n",
    "\n",
    "le = sp.LabelEncoder()\n",
    "\n",
    "def transform_to_int(df, column_name):\n",
    "    le.fit(df[column_name])\n",
    "    df.loc[:, column_name] = le.transform(df[column_name])\n",
    "\n",
    "# chainerはデフォルトでは文字を受け付けないので数値に変換。\n",
    "transform_to_int(x, \"Type\")\n",
    "transform_to_int(x, \"Race\")\n",
    "transform_to_int(t, \"Attribute\")\n",
    "\n",
    "# この変換は不適切。単に多重度に応じて数字を割り当てているだけ。\n",
    "transform_to_int(x, \"Name\")\n",
    "\n",
    "x = x.astype('float32')\n",
    "x = x.to_numpy()\n",
    "\n",
    "t = t.astype('int32')\n",
    "t = t.to_numpy()\n",
    "# 行列からベクトルへ次元を下げる\n",
    "t = t.flatten()\n"
   ]
  },
  {
   "cell_type": "code",
   "execution_count": 64,
   "metadata": {},
   "outputs": [
    {
     "name": "stdout",
     "output_type": "stream",
     "text": [
      "epoch: 0, iteration: 131, loss (train): 15874.6104, loss (valid): 1.8383\n",
      "epoch: 1, iteration: 262, loss (train): 1.8105, loss (valid): 1.7880\n",
      "epoch: 2, iteration: 393, loss (train): 1.7719, loss (valid): 1.7590\n",
      "epoch: 3, iteration: 524, loss (train): 1.7486, loss (valid): 1.7408\n",
      "epoch: 4, iteration: 655, loss (train): 1.7337, loss (valid): 1.7289\n",
      "epoch: 5, iteration: 786, loss (train): 1.7238, loss (valid): 1.7213\n",
      "epoch: 6, iteration: 917, loss (train): 1.7172, loss (valid): 1.7160\n",
      "epoch: 7, iteration: 1048, loss (train): 1.7126, loss (valid): 1.7127\n",
      "epoch: 8, iteration: 1179, loss (train): 1.7095, loss (valid): 1.7103\n",
      "epoch: 9, iteration: 1310, loss (train): 1.7071, loss (valid): 1.7086\n",
      "epoch: 10, iteration: 1441, loss (train): 1.7054, loss (valid): 1.7075\n",
      "epoch: 11, iteration: 1572, loss (train): 1.7042, loss (valid): 1.7068\n",
      "epoch: 12, iteration: 1703, loss (train): 1.7032, loss (valid): 1.7060\n",
      "epoch: 13, iteration: 1834, loss (train): 1.7021, loss (valid): 1.7053\n",
      "epoch: 14, iteration: 1965, loss (train): 1.7014, loss (valid): 1.7047\n",
      "epoch: 15, iteration: 2096, loss (train): 1.7007, loss (valid): 1.7041\n",
      "epoch: 16, iteration: 2227, loss (train): 1.7004, loss (valid): 1.7037\n",
      "epoch: 17, iteration: 2358, loss (train): 1.6996, loss (valid): 1.7036\n",
      "epoch: 18, iteration: 2489, loss (train): 1.6993, loss (valid): 1.7031\n",
      "epoch: 19, iteration: 2620, loss (train): 1.6988, loss (valid): 1.7029\n",
      "epoch: 20, iteration: 2751, loss (train): 1.6986, loss (valid): 1.7026\n",
      "epoch: 21, iteration: 2882, loss (train): 1.6982, loss (valid): 1.7026\n",
      "epoch: 22, iteration: 3013, loss (train): 1.6978, loss (valid): 1.7020\n",
      "epoch: 23, iteration: 3144, loss (train): 1.6974, loss (valid): 1.7020\n",
      "epoch: 24, iteration: 3275, loss (train): 1.6974, loss (valid): 1.7018\n",
      "epoch: 25, iteration: 3406, loss (train): 1.6971, loss (valid): 1.7017\n",
      "epoch: 26, iteration: 3537, loss (train): 1.6969, loss (valid): 1.7017\n",
      "epoch: 27, iteration: 3668, loss (train): 1.6968, loss (valid): 1.7015\n",
      "epoch: 28, iteration: 3799, loss (train): 1.6968, loss (valid): 1.7015\n",
      "epoch: 29, iteration: 3930, loss (train): 1.6965, loss (valid): 1.7009\n"
     ]
    }
   ],
   "source": [
    "import chainer\n",
    "# chainer.print_runtime_info()\n",
    "\n",
    "# データセットを分割するモジュールの読み込み\n",
    "from sklearn.model_selection import train_test_split\n",
    "x_train_val, x_test, t_train_val, t_test = train_test_split(x, t, test_size=0.3, random_state=0)\n",
    "\n",
    "x_train, x_val, t_train, t_val = train_test_split(x_train_val, t_train_val, test_size=0.3, random_state=0)\n",
    "\n",
    "\n",
    "import chainer.links as L\n",
    "import chainer.functions as F\n",
    "\n",
    "# 入力次元数が 6、出力次元数が 7 の全結合層\n",
    "l = L.Linear(6, 7)\n",
    "\n",
    "from chainer import Sequential\n",
    "\n",
    "# net としてインスタンス化\n",
    "n_input = 6\n",
    "n_hidden = 10\n",
    "n_output = 7\n",
    "\n",
    "# ReLUって減衰が起きるんじゃなかったっけ\n",
    "net = Sequential(\n",
    "    L.Linear(n_input, n_hidden), F.relu,\n",
    "    L.Linear(n_hidden, n_hidden), F.relu,\n",
    "    L.Linear(n_hidden, n_output)\n",
    ")\n",
    "\n",
    "optimizer = chainer.optimizers.SGD(lr=0.01)\n",
    "\n",
    "optimizer.setup(net)\n",
    "\n",
    "# 数値コピペ\n",
    "n_epoch = 30\n",
    "n_batchsize = 16\n",
    "\n",
    "import numpy as np\n",
    "\n",
    "iteration = 0\n",
    "\n",
    "# ログの保存用\n",
    "results_train = {\n",
    "    'loss': [],\n",
    "    'accuracy': []\n",
    "}\n",
    "results_valid = {\n",
    "    'loss': [],\n",
    "    'accuracy': []\n",
    "}\n",
    "\n",
    "\n",
    "for epoch in range(n_epoch):\n",
    "\n",
    "    # データセット並べ替えた順番を取得\n",
    "    order = np.random.permutation(range(len(x_train)))\n",
    "    \n",
    "    # 各バッチ毎の目的関数の出力と分類精度の保存用\n",
    "    loss_list = []\n",
    "    accuracy_list = []\n",
    "\n",
    "    for i in range(0, len(order), n_batchsize):\n",
    "        # バッチを準備\n",
    "        index = order[i:i+n_batchsize]\n",
    "        x_train_batch = x_train[index,:]\n",
    "        t_train_batch = t_train[index]\n",
    "\n",
    "        # 予測値を出力\n",
    "        y_train_batch = net(x_train_batch)\n",
    "\n",
    "        # 目的関数を適用し、分類精度を計算\n",
    "\n",
    "        loss_train_batch = F.softmax_cross_entropy(y_train_batch, t_train_batch)\n",
    "        accuracy_train_batch = F.accuracy(y_train_batch, t_train_batch)\n",
    "\n",
    "        loss_list.append(loss_train_batch.array)\n",
    "        accuracy_list.append(accuracy_train_batch.array)\n",
    "\n",
    "        # 勾配のリセットと勾配の計算\n",
    "        net.cleargrads()\n",
    "        loss_train_batch.backward()\n",
    "\n",
    "        # パラメータの更新\n",
    "        optimizer.update()\n",
    "\n",
    "        # カウントアップ\n",
    "        iteration += 1\n",
    "\n",
    "    # 訓練データに対する目的関数の出力と分類精度を集計\n",
    "    loss_train = np.mean(loss_list)\n",
    "    accuracy_train = np.mean(accuracy_list)\n",
    "\n",
    "    # 1エポック終えたら、検証データで評価\n",
    "    # 検証データで予測値を出力\n",
    "    with chainer.using_config('train', False), chainer.using_config('enable_backprop', False):\n",
    "        y_val = net(x_val)\n",
    "\n",
    "    # 目的関数を適用し、分類精度を計算\n",
    "    loss_val = F.softmax_cross_entropy(y_val, t_val)\n",
    "    accuracy_val = F.accuracy(y_val, t_val)\n",
    "\n",
    "    # 結果の表示\n",
    "    print('epoch: {}, iteration: {}, loss (train): {:.4f}, loss (valid): {:.4f}'.format(\n",
    "        epoch, iteration, loss_train, loss_val.array))\n",
    "\n",
    "    # ログを保存\n",
    "    results_train['loss'] .append(loss_train)\n",
    "    results_train['accuracy'] .append(accuracy_train)\n",
    "    results_valid['loss'].append(loss_val.array)\n",
    "    results_valid['accuracy'].append(accuracy_val.array)"
   ]
  },
  {
   "cell_type": "code",
   "execution_count": 65,
   "metadata": {},
   "outputs": [],
   "source": [
    "%matplotlib inline\n",
    "import matplotlib.pyplot as plt"
   ]
  },
  {
   "cell_type": "code",
   "execution_count": 66,
   "metadata": {},
   "outputs": [
    {
     "data": {
      "text/plain": [
       "<matplotlib.legend.Legend at 0x7f66ad0f6978>"
      ]
     },
     "execution_count": 66,
     "metadata": {},
     "output_type": "execute_result"
    },
    {
     "data": {
      "image/png": "[encoded data removed]",
      "text/plain": [
       "<Figure size 432x288 with 1 Axes>"
      ]
     },
     "metadata": {
      "needs_background": "light"
     },
     "output_type": "display_data"
    }
   ],
   "source": [
    "# 目的関数の出力 (loss)\n",
    "plt.plot(results_train['loss'], label='train')  # label で凡例の設定\n",
    "plt.plot(results_valid['loss'], label='valid')  # label で凡例の設定\n",
    "plt.legend()  # 凡例の表示"
   ]
  },
  {
   "cell_type": "code",
   "execution_count": 67,
   "metadata": {},
   "outputs": [
    {
     "data": {
      "text/plain": [
       "<matplotlib.legend.Legend at 0x7f66ad071128>"
      ]
     },
     "execution_count": 67,
     "metadata": {},
     "output_type": "execute_result"
    },
    {
     "data": {
      "image/png": "[encoded data removed]",
      "text/plain": [
       "<Figure size 432x288 with 1 Axes>"
      ]
     },
     "metadata": {
      "needs_background": "light"
     },
     "output_type": "display_data"
    }
   ],
   "source": [
    "# 分類精度 (accuracy)\n",
    "plt.plot(results_train['accuracy'], label='train')  # label で凡例の設定\n",
    "plt.plot(results_valid['accuracy'], label='valid')  # label で凡例の設定\n",
    "plt.legend()  # 凡例の表示"
   ]
  },
  {
   "cell_type": "code",
   "execution_count": 68,
   "metadata": {},
   "outputs": [],
   "source": [
    "# テストデータで予測値を計算\n",
    "with chainer.using_config('train', False), chainer.using_config('enable_backprop', False):\n",
    "    y_test = net(x_test)"
   ]
  },
  {
   "cell_type": "code",
   "execution_count": 69,
   "metadata": {},
   "outputs": [
    {
     "data": {
      "text/plain": [
       "array(0.24395947, dtype=float32)"
      ]
     },
     "execution_count": 69,
     "metadata": {},
     "output_type": "execute_result"
    }
   ],
   "source": [
    "accuracy_test = F.accuracy(y_test, t_test)\n",
    "accuracy_test.array"
   ]
  },
  {
   "cell_type": "code",
   "execution_count": 70,
   "metadata": {},
   "outputs": [
    {
     "name": "stdout",
     "output_type": "stream",
     "text": [
      "README.md  data  my_yugioh.net\trequirements.txt  yu-gi-oh.ipynb  yugienv\r\n"
     ]
    }
   ],
   "source": [
    "chainer.serializers.save_npz('my_yugioh.net', net)\n",
    "!ls"
   ]
  },
  {
   "cell_type": "code",
   "execution_count": 71,
   "metadata": {},
   "outputs": [],
   "source": [
    "loaded_net = Sequential(\n",
    "    L.Linear(n_input, n_hidden), F.relu,\n",
    "    L.Linear(n_hidden, n_hidden), F.relu,\n",
    "    L.Linear(n_hidden, n_output)\n",
    ")"
   ]
  },
  {
   "cell_type": "code",
   "execution_count": 72,
   "metadata": {},
   "outputs": [],
   "source": [
    "chainer.serializers.load_npz('my_yugioh.net', loaded_net)"
   ]
  },
  {
   "cell_type": "code",
   "execution_count": 73,
   "metadata": {},
   "outputs": [],
   "source": [
    "with chainer.using_config('train', False), chainer.using_config('enable_backprop', False):\n",
    "    y_test = loaded_net(x_test)"
   ]
  },
  {
   "cell_type": "code",
   "execution_count": 74,
   "metadata": {},
   "outputs": [
    {
     "data": {
      "text/plain": [
       "0"
      ]
     },
     "execution_count": 74,
     "metadata": {},
     "output_type": "execute_result"
    }
   ],
   "source": [
    "np.argmax(y_test[0,:].array)"
   ]
  },
  {
   "cell_type": "code",
   "execution_count": null,
   "metadata": {},
   "outputs": [],
   "source": []
  }
 ],
 "metadata": {
  "kernelspec": {
   "display_name": "Python 3",
   "language": "python",
   "name": "python3"
  },
  "language_info": {
   "codemirror_mode": {
    "name": "ipython",
    "version": 3
   },
   "file_extension": ".py",
   "mimetype": "text/x-python",
   "name": "python",
   "nbconvert_exporter": "python",
   "pygments_lexer": "ipython3",
   "version": "3.6.5"
  },
  "pycharm": {
   "stem_cell": {
    "cell_type": "raw",
    "metadata": {
     "collapsed": false
    },
    "source": []
   }
  }
 },
 "nbformat": 4,
 "nbformat_minor": 2
}
