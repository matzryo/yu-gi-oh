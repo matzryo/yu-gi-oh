{
 "cells": [
  {
   "cell_type": "code",
   "execution_count": 6,
   "metadata": {
    "pycharm": {
     "is_executing": false
    }
   },
   "outputs": [
    {
     "name": "stdout",
     "text": [
      "             Level          ATK          DEF\ncount  4275.000000  4275.000000  4275.000000\nmean      4.449591  1455.553216  1212.318129\nstd       2.185045   899.165365   802.966529\nmin       1.000000     0.000000     0.000000\n25%       3.000000   800.000000   600.000000\n50%       4.000000  1500.000000  1200.000000\n75%       6.000000  2100.000000  1800.000000\nmax      12.000000  5000.000000  5000.000000\n"
     ],
     "output_type": "stream"
    }
   ],
   "source": [
    "%matplotlib inline\n",
    "import matplotlib.pyplot as plt\n",
    "\n",
    "import pandas as pd\n",
    "\n",
    "all_cards = pd.read_csv('data/card_data.csv')\n",
    "print(all_cards.describe())\n",
    "# 属性なしって必ずモンスターなのか?\n",
    "monsters = all_cards[pd.notnull(all_cards['Attribute'])]"
   ]
  },
  {
   "cell_type": "code",
   "execution_count": 24,
   "metadata": {
    "pycharm": {
     "is_executing": false
    }
   },
   "outputs": [
    {
     "name": "stdout",
     "text": [
      "(4275, 6) (4275, 1)\n['DARK', 'DIVINE', 'EARTH', 'FIRE', 'LIGHT', 'WATER', 'WIND']\n<class 'numpy.ndarray'>\n"
     ],
     "output_type": "stream"
    },
    {
     "data": {
      "text/plain": "   AttributeInt\n1             0\n4             0\n6             3\n8             2\n9             3",
      "text/html": "<div>\n<style scoped>\n    .dataframe tbody tr th:only-of-type {\n        vertical-align: middle;\n    }\n\n    .dataframe tbody tr th {\n        vertical-align: top;\n    }\n\n    .dataframe thead th {\n        text-align: right;\n    }\n</style>\n<table border=\"1\" class=\"dataframe\">\n  <thead>\n    <tr style=\"text-align: right;\">\n      <th></th>\n      <th>AttributeInt</th>\n    </tr>\n  </thead>\n  <tbody>\n    <tr>\n      <td>1</td>\n      <td>0</td>\n    </tr>\n    <tr>\n      <td>4</td>\n      <td>0</td>\n    </tr>\n    <tr>\n      <td>6</td>\n      <td>3</td>\n    </tr>\n    <tr>\n      <td>8</td>\n      <td>2</td>\n    </tr>\n    <tr>\n      <td>9</td>\n      <td>3</td>\n    </tr>\n  </tbody>\n</table>\n</div>"
     },
     "metadata": {},
     "output_type": "execute_result",
     "execution_count": 24
    }
   ],
   "source": [
    "# import chainer\n",
    "# chainer.print_runtime_info()\n",
    "x =  monsters.drop(columns='Attribute')\n",
    "t = monsters[['Attribute']]\n",
    "print(x.shape, t.shape)\n",
    "# ['DARK', 'DIVINE', 'EARTH', 'FIRE', 'LIGHT', 'WATER', 'WIND']\n",
    "print(sorted(t.Attribute.unique().tolist()))\n",
    "print(type(t.Attribute.unique()))\n",
    "\n",
    "def attribute_to_int(column):\n",
    "   # とりあえず毎回決め打ちの値を生成\n",
    "   attr = ['DARK', 'DIVINE', 'EARTH', 'FIRE', 'LIGHT', 'WATER', 'WIND'] \n",
    "   # エラーとかとりあえず無視\n",
    "   return attr.index(column)\n",
    "   \n",
    "t.loc[:, 'AttributeInt'] = t['Attribute'].map(attribute_to_int)\n",
    "t = t.drop('Attribute', axis=1)\n",
    "t = t.astype('int32')\n",
    "t.head(5)"
   ]
  }
 ],
 "metadata": {
  "kernelspec": {
   "display_name": "Python 3",
   "language": "python",
   "name": "python3"
  },
  "language_info": {
   "codemirror_mode": {
    "name": "ipython",
    "version": 3
   },
   "file_extension": ".py",
   "mimetype": "text/x-python",
   "name": "python",
   "nbconvert_exporter": "python",
   "pygments_lexer": "ipython3",
   "version": "3.7.4"
  },
  "pycharm": {
   "stem_cell": {
    "cell_type": "raw",
    "source": [],
    "metadata": {
     "collapsed": false
    }
   }
  }
 },
 "nbformat": 4,
 "nbformat_minor": 2
}