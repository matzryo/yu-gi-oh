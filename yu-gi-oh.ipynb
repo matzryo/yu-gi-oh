{
 "cells": [
  {
   "cell_type": "code",
   "execution_count": 2,
   "metadata": {
    "pycharm": {
     "is_executing": false
    }
   },
   "outputs": [
    {
     "name": "stdout",
     "output_type": "stream",
     "text": [
      "             Level          ATK          DEF\n",
      "count  4275.000000  4275.000000  4275.000000\n",
      "mean      4.449591  1455.553216  1212.318129\n",
      "std       2.185045   899.165365   802.966529\n",
      "min       1.000000     0.000000     0.000000\n",
      "25%       3.000000   800.000000   600.000000\n",
      "50%       4.000000  1500.000000  1200.000000\n",
      "75%       6.000000  2100.000000  1800.000000\n",
      "max      12.000000  5000.000000  5000.000000\n"
     ]
    }
   ],
   "source": [
    "%matplotlib inline\n",
    "import matplotlib.pyplot as plt\n",
    "\n",
    "import pandas as pd\n",
    "\n",
    "all_cards = pd.read_csv('data/card_data.csv')\n",
    "print(all_cards.describe())\n",
    "\n",
    "# 属性なしって必ずモンスターなのか?\n",
    "monsters = all_cards[pd.notnull(all_cards['Attribute'])]"
   ]
  },
  {
   "cell_type": "code",
   "execution_count": 10,
   "metadata": {
    "pycharm": {
     "is_executing": false
    }
   },
   "outputs": [],
   "source": [
    "x = monsters.drop(columns='Attribute')\n",
    "t = monsters[['Attribute']]\n",
    "\n",
    "# class MyML:\n",
    "#     def __init__(self):\n",
    "    \n",
    "#     def convert_to_int_of(column_name):\n",
    "#         kinds = create_kinds_list_of(column_name)\n",
    "#         di = create_kinds_int_dictionary(kinds)\n",
    "#         return t.replace({column_name: di})\n",
    "    \n",
    "def create_kinds_list_of(df, column_name):\n",
    "    return sorted(df[column_name].unique().tolist())\n",
    "    \n",
    "def create_kinds_int_dictionary(kinds):\n",
    "    dict = {}\n",
    "    for kind in kinds:\n",
    "        dict[kind] = kinds.index(kind)\n",
    "        \n",
    "    return dict\n",
    "\n",
    "def convert_to_int_of(df, column_name):\n",
    "    kinds = create_kinds_list_of(df, column_name)\n",
    "    di = create_kinds_int_dictionary(kinds)\n",
    "    return df.replace({column_name: di})\n",
    "\n",
    "# 属性の例: ['DARK', 'DIVINE', 'EARTH', 'FIRE', 'LIGHT', 'WATER', 'WIND']\n",
    "t = convert_to_int_of(t, \"Attribute\")\n",
    "\n",
    "\n",
    "x = convert_to_int_of(x, \"Type\")\n",
    "x = convert_to_int_of(x, \"Race\")\n",
    "# print(x.head(5))\n",
    "\n",
    "import sklearn.preprocessing as sp\n",
    "\n",
    "# この変換はダメだ。単に多重度に応じて数字を割り当てているだけ。\n",
    "# pd.set_option(\"display.max_rows\", 50)\n",
    "le = sp.LabelEncoder()\n",
    "le.fit(x[\"Name\"].unique())\n",
    "# print(len(le.transform(x[\"Name\"])))\n",
    "\n",
    "# print(len(x[\"Name\"]))\n",
    "# print(len(x[\"Name\"].unique()))\n",
    "# print(x[x.duplicated(subset=[\"Name\"], keep=False)])\n",
    "x[\"Name\"] = le.transform(x[\"Name\"])\n",
    "\n",
    "x = x.astype('float32')\n",
    "x = x.to_numpy()\n",
    "t = t.astype('int32')\n",
    "t = t.to_numpy()\n",
    "# 行列からベクトルへ次元を下げる\n",
    "t = t.flatten()\n",
    "# from IPython.core.debugger import Pdb; Pdb().set_trace()"
   ]
  },
  {
   "cell_type": "code",
   "execution_count": 11,
   "metadata": {},
   "outputs": [
    {
     "name": "stdout",
     "output_type": "stream",
     "text": [
      "epoch: 0, iteration: 131, loss (train): 439.8456, loss (valid): 1.8849\n",
      "epoch: 1, iteration: 262, loss (train): 1.8617, loss (valid): 1.8412\n",
      "epoch: 2, iteration: 393, loss (train): 1.8247, loss (valid): 1.8108\n",
      "epoch: 3, iteration: 524, loss (train): 1.7989, loss (valid): 1.7895\n",
      "epoch: 4, iteration: 655, loss (train): 1.7805, loss (valid): 1.7741\n",
      "epoch: 5, iteration: 786, loss (train): 1.7670, loss (valid): 1.7629\n",
      "epoch: 6, iteration: 917, loss (train): 1.7571, loss (valid): 1.7543\n",
      "epoch: 7, iteration: 1048, loss (train): 1.7494, loss (valid): 1.7479\n",
      "epoch: 8, iteration: 1179, loss (train): 1.7434, loss (valid): 1.7427\n",
      "epoch: 9, iteration: 1310, loss (train): 1.7387, loss (valid): 1.7387\n",
      "epoch: 10, iteration: 1441, loss (train): 1.7348, loss (valid): 1.7354\n",
      "epoch: 11, iteration: 1572, loss (train): 1.7316, loss (valid): 1.7326\n",
      "epoch: 12, iteration: 1703, loss (train): 1.7290, loss (valid): 1.7303\n",
      "epoch: 13, iteration: 1834, loss (train): 1.7269, loss (valid): 1.7282\n",
      "epoch: 14, iteration: 1965, loss (train): 1.7247, loss (valid): 1.7265\n",
      "epoch: 15, iteration: 2096, loss (train): 1.7230, loss (valid): 1.7249\n",
      "epoch: 16, iteration: 2227, loss (train): 1.7214, loss (valid): 1.7235\n",
      "epoch: 17, iteration: 2358, loss (train): 1.7200, loss (valid): 1.7222\n",
      "epoch: 18, iteration: 2489, loss (train): 1.7186, loss (valid): 1.7211\n",
      "epoch: 19, iteration: 2620, loss (train): 1.7175, loss (valid): 1.7200\n",
      "epoch: 20, iteration: 2751, loss (train): 1.7163, loss (valid): 1.7191\n",
      "epoch: 21, iteration: 2882, loss (train): 1.7156, loss (valid): 1.7182\n",
      "epoch: 22, iteration: 3013, loss (train): 1.7146, loss (valid): 1.7174\n",
      "epoch: 23, iteration: 3144, loss (train): 1.7137, loss (valid): 1.7166\n",
      "epoch: 24, iteration: 3275, loss (train): 1.7130, loss (valid): 1.7160\n",
      "epoch: 25, iteration: 3406, loss (train): 1.7123, loss (valid): 1.7153\n",
      "epoch: 26, iteration: 3537, loss (train): 1.7116, loss (valid): 1.7147\n",
      "epoch: 27, iteration: 3668, loss (train): 1.7111, loss (valid): 1.7141\n",
      "epoch: 28, iteration: 3799, loss (train): 1.7104, loss (valid): 1.7136\n",
      "epoch: 29, iteration: 3930, loss (train): 1.7097, loss (valid): 1.7131\n"
     ]
    }
   ],
   "source": [
    "\n",
    "import chainer\n",
    "# chainer.print_runtime_info()\n",
    "\n",
    "# データセットを分割するモジュールの読み込み\n",
    "from sklearn.model_selection import train_test_split\n",
    "x_train_val, x_test, t_train_val, t_test = train_test_split(x, t, test_size=0.3, random_state=0)\n",
    "\n",
    "x_train, x_val, t_train, t_val = train_test_split(x_train_val, t_train_val, test_size=0.3, random_state=0)\n",
    "\n",
    "\n",
    "import chainer.links as L\n",
    "import chainer.functions as F\n",
    "\n",
    "# 入力次元数が 6、出力次元数が 7 の全結合層\n",
    "l = L.Linear(6, 7)\n",
    "\n",
    "from chainer import Sequential\n",
    "\n",
    "# net としてインスタンス化\n",
    "n_input = 6\n",
    "n_hidden = 10\n",
    "n_output = 7\n",
    "\n",
    "# ReLUって減衰が起きるんじゃなかったっけ\n",
    "net = Sequential(\n",
    "    L.Linear(n_input, n_hidden), F.relu,\n",
    "    L.Linear(n_hidden, n_hidden), F.relu,\n",
    "    L.Linear(n_hidden, n_output)\n",
    ")\n",
    "\n",
    "optimizer = chainer.optimizers.SGD(lr=0.01)\n",
    "\n",
    "optimizer.setup(net)\n",
    "\n",
    "# 数値コピペ\n",
    "n_epoch = 30\n",
    "n_batchsize = 16\n",
    "\n",
    "import numpy as np\n",
    "\n",
    "iteration = 0\n",
    "\n",
    "# ログの保存用\n",
    "results_train = {\n",
    "    'loss': [],\n",
    "    'accuracy': []\n",
    "}\n",
    "results_valid = {\n",
    "    'loss': [],\n",
    "    'accuracy': []\n",
    "}\n",
    "\n",
    "\n",
    "for epoch in range(n_epoch):\n",
    "\n",
    "    # データセット並べ替えた順番を取得\n",
    "    order = np.random.permutation(range(len(x_train)))\n",
    "    \n",
    "    # 各バッチ毎の目的関数の出力と分類精度の保存用\n",
    "    loss_list = []\n",
    "    accuracy_list = []\n",
    "\n",
    "    for i in range(0, len(order), n_batchsize):\n",
    "        # バッチを準備\n",
    "        index = order[i:i+n_batchsize]\n",
    "        x_train_batch = x_train[index,:]\n",
    "        t_train_batch = t_train[index]\n",
    "\n",
    "        # 予測値を出力\n",
    "        y_train_batch = net(x_train_batch)\n",
    "\n",
    "        # 目的関数を適用し、分類精度を計算\n",
    "\n",
    "        loss_train_batch = F.softmax_cross_entropy(y_train_batch, t_train_batch)\n",
    "        accuracy_train_batch = F.accuracy(y_train_batch, t_train_batch)\n",
    "\n",
    "        loss_list.append(loss_train_batch.array)\n",
    "        accuracy_list.append(accuracy_train_batch.array)\n",
    "\n",
    "        # 勾配のリセットと勾配の計算\n",
    "        net.cleargrads()\n",
    "        loss_train_batch.backward()\n",
    "\n",
    "        # パラメータの更新\n",
    "        optimizer.update()\n",
    "\n",
    "        # カウントアップ\n",
    "        iteration += 1\n",
    "\n",
    "    # 訓練データに対する目的関数の出力と分類精度を集計\n",
    "    loss_train = np.mean(loss_list)\n",
    "    accuracy_train = np.mean(accuracy_list)\n",
    "\n",
    "    # 1エポック終えたら、検証データで評価\n",
    "    # 検証データで予測値を出力\n",
    "    with chainer.using_config('train', False), chainer.using_config('enable_backprop', False):\n",
    "        y_val = net(x_val)\n",
    "\n",
    "    # 目的関数を適用し、分類精度を計算\n",
    "    loss_val = F.softmax_cross_entropy(y_val, t_val)\n",
    "    accuracy_val = F.accuracy(y_val, t_val)\n",
    "\n",
    "    # 結果の表示\n",
    "    print('epoch: {}, iteration: {}, loss (train): {:.4f}, loss (valid): {:.4f}'.format(\n",
    "        epoch, iteration, loss_train, loss_val.array))\n",
    "\n",
    "    # ログを保存\n",
    "    results_train['loss'] .append(loss_train)\n",
    "    results_train['accuracy'] .append(accuracy_train)\n",
    "    results_valid['loss'].append(loss_val.array)\n",
    "    results_valid['accuracy'].append(accuracy_val.array)"
   ]
  },
  {
   "cell_type": "code",
   "execution_count": 12,
   "metadata": {},
   "outputs": [],
   "source": [
    "%matplotlib inline\n",
    "import matplotlib.pyplot as plt"
   ]
  },
  {
   "cell_type": "code",
   "execution_count": 16,
   "metadata": {},
   "outputs": [
    {
     "data": {
      "text/plain": [
       "<matplotlib.legend.Legend at 0x7fb1c7822198>"
      ]
     },
     "execution_count": 16,
     "metadata": {},
     "output_type": "execute_result"
    },
    {
     "data": {
      "image/png": "[encoded data removed]",
      "text/plain": [
       "<Figure size 432x288 with 1 Axes>"
      ]
     },
     "metadata": {
      "needs_background": "light"
     },
     "output_type": "display_data"
    }
   ],
   "source": [
    "# 目的関数の出力 (loss)\n",
    "plt.plot(results_train['loss'], label='train')  # label で凡例の設定\n",
    "plt.plot(results_valid['loss'], label='valid')  # label で凡例の設定\n",
    "plt.legend()  # 凡例の表示"
   ]
  },
  {
   "cell_type": "code",
   "execution_count": 17,
   "metadata": {},
   "outputs": [
    {
     "data": {
      "text/plain": [
       "<matplotlib.legend.Legend at 0x7fb1c778c2e8>"
      ]
     },
     "execution_count": 17,
     "metadata": {},
     "output_type": "execute_result"
    },
    {
     "data": {
      "image/png": "[encoded data removed]",
      "text/plain": [
       "<Figure size 432x288 with 1 Axes>"
      ]
     },
     "metadata": {
      "needs_background": "light"
     },
     "output_type": "display_data"
    }
   ],
   "source": [
    "# 分類精度 (accuracy)\n",
    "plt.plot(results_train['accuracy'], label='train')  # label で凡例の設定\n",
    "plt.plot(results_valid['accuracy'], label='valid')  # label で凡例の設定\n",
    "plt.legend()  # 凡例の表示"
   ]
  },
  {
   "cell_type": "code",
   "execution_count": 18,
   "metadata": {},
   "outputs": [],
   "source": [
    "# テストデータで予測値を計算\n",
    "with chainer.using_config('train', False), chainer.using_config('enable_backprop', False):\n",
    "    y_test = net(x_test)"
   ]
  },
  {
   "cell_type": "code",
   "execution_count": 19,
   "metadata": {},
   "outputs": [
    {
     "data": {
      "text/plain": [
       "array(0.24395947, dtype=float32)"
      ]
     },
     "execution_count": 19,
     "metadata": {},
     "output_type": "execute_result"
    }
   ],
   "source": [
    "accuracy_test = F.accuracy(y_test, t_test)\n",
    "accuracy_test.array"
   ]
  },
  {
   "cell_type": "code",
   "execution_count": 22,
   "metadata": {},
   "outputs": [
    {
     "name": "stdout",
     "output_type": "stream",
     "text": [
      "README.md  my_iris.net\t  requirements.txt  yugienv\r\n",
      "data\t   my_yugioh.net  yu-gi-oh.ipynb\r\n"
     ]
    }
   ],
   "source": [
    "chainer.serializers.save_npz('my_yugioh.net', net)\n",
    "!ls"
   ]
  },
  {
   "cell_type": "code",
   "execution_count": 24,
   "metadata": {},
   "outputs": [],
   "source": [
    "loaded_net = Sequential(\n",
    "    L.Linear(n_input, n_hidden), F.relu,\n",
    "    L.Linear(n_hidden, n_hidden), F.relu,\n",
    "    L.Linear(n_hidden, n_output)\n",
    ")"
   ]
  },
  {
   "cell_type": "code",
   "execution_count": 25,
   "metadata": {},
   "outputs": [],
   "source": [
    "chainer.serializers.load_npz('my_yugioh.net', loaded_net)"
   ]
  },
  {
   "cell_type": "code",
   "execution_count": 26,
   "metadata": {},
   "outputs": [],
   "source": [
    "with chainer.using_config('train', False), chainer.using_config('enable_backprop', False):\n",
    "    y_test = loaded_net(x_test)"
   ]
  },
  {
   "cell_type": "code",
   "execution_count": 32,
   "metadata": {},
   "outputs": [
    {
     "data": {
      "text/plain": [
       "0"
      ]
     },
     "execution_count": 32,
     "metadata": {},
     "output_type": "execute_result"
    }
   ],
   "source": [
    "np.argmax(y_test[0,:].array)"
   ]
  }
 ],
 "metadata": {
  "kernelspec": {
   "display_name": "Python 3",
   "language": "python",
   "name": "python3"
  },
  "language_info": {
   "codemirror_mode": {
    "name": "ipython",
    "version": 3
   },
   "file_extension": ".py",
   "mimetype": "text/x-python",
   "name": "python",
   "nbconvert_exporter": "python",
   "pygments_lexer": "ipython3",
   "version": "3.6.5"
  },
  "pycharm": {
   "stem_cell": {
    "cell_type": "raw",
    "metadata": {
     "collapsed": false
    },
    "source": []
   }
  }
 },
 "nbformat": 4,
 "nbformat_minor": 2
}
