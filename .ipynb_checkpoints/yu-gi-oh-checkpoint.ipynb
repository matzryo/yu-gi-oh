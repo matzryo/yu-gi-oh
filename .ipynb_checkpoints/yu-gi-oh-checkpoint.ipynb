{
 "cells": [
  {
   "cell_type": "code",
   "execution_count": 3,
   "metadata": {
    "pycharm": {
     "is_executing": false
    }
   },
   "outputs": [
    {
     "name": "stdout",
     "output_type": "stream",
     "text": [
      "             Level          ATK          DEF\n",
      "count  4275.000000  4275.000000  4275.000000\n",
      "mean      4.449591  1455.553216  1212.318129\n",
      "std       2.185045   899.165365   802.966529\n",
      "min       1.000000     0.000000     0.000000\n",
      "25%       3.000000   800.000000   600.000000\n",
      "50%       4.000000  1500.000000  1200.000000\n",
      "75%       6.000000  2100.000000  1800.000000\n",
      "max      12.000000  5000.000000  5000.000000\n"
     ]
    }
   ],
   "source": [
    "%matplotlib inline\n",
    "import matplotlib.pyplot as plt\n",
    "\n",
    "import pandas as pd\n",
    "\n",
    "all_cards = pd.read_csv('data/card_data.csv')\n",
    "print(all_cards.describe())\n",
    "\n",
    "# 属性なしって必ずモンスターなのか?\n",
    "monsters = all_cards[pd.notnull(all_cards['Attribute'])]"
   ]
  },
  {
   "cell_type": "code",
   "execution_count": 72,
   "metadata": {
    "pycharm": {
     "is_executing": false
    }
   },
   "outputs": [
    {
     "data": {
      "text/html": [
       "<div>\n",
       "<style scoped>\n",
       "    .dataframe tbody tr th:only-of-type {\n",
       "        vertical-align: middle;\n",
       "    }\n",
       "\n",
       "    .dataframe tbody tr th {\n",
       "        vertical-align: top;\n",
       "    }\n",
       "\n",
       "    .dataframe thead th {\n",
       "        text-align: right;\n",
       "    }\n",
       "</style>\n",
       "<table border=\"1\" class=\"dataframe\">\n",
       "  <thead>\n",
       "    <tr style=\"text-align: right;\">\n",
       "      <th></th>\n",
       "      <th>Type</th>\n",
       "      <th>Level</th>\n",
       "      <th>Race</th>\n",
       "      <th>ATK</th>\n",
       "      <th>DEF</th>\n",
       "    </tr>\n",
       "  </thead>\n",
       "  <tbody>\n",
       "    <tr>\n",
       "      <td>count</td>\n",
       "      <td>4275.000000</td>\n",
       "      <td>4275.000000</td>\n",
       "      <td>4275.000000</td>\n",
       "      <td>4275.000000</td>\n",
       "      <td>4275.000000</td>\n",
       "    </tr>\n",
       "    <tr>\n",
       "      <td>mean</td>\n",
       "      <td>3.551813</td>\n",
       "      <td>4.449591</td>\n",
       "      <td>12.017778</td>\n",
       "      <td>1455.553216</td>\n",
       "      <td>1212.318129</td>\n",
       "    </tr>\n",
       "    <tr>\n",
       "      <td>std</td>\n",
       "      <td>5.883506</td>\n",
       "      <td>2.185045</td>\n",
       "      <td>6.613337</td>\n",
       "      <td>899.165365</td>\n",
       "      <td>802.966529</td>\n",
       "    </tr>\n",
       "    <tr>\n",
       "      <td>min</td>\n",
       "      <td>0.000000</td>\n",
       "      <td>1.000000</td>\n",
       "      <td>0.000000</td>\n",
       "      <td>0.000000</td>\n",
       "      <td>0.000000</td>\n",
       "    </tr>\n",
       "    <tr>\n",
       "      <td>25%</td>\n",
       "      <td>0.000000</td>\n",
       "      <td>3.000000</td>\n",
       "      <td>7.000000</td>\n",
       "      <td>800.000000</td>\n",
       "      <td>600.000000</td>\n",
       "    </tr>\n",
       "    <tr>\n",
       "      <td>50%</td>\n",
       "      <td>0.000000</td>\n",
       "      <td>4.000000</td>\n",
       "      <td>11.000000</td>\n",
       "      <td>1500.000000</td>\n",
       "      <td>1200.000000</td>\n",
       "    </tr>\n",
       "    <tr>\n",
       "      <td>75%</td>\n",
       "      <td>4.000000</td>\n",
       "      <td>6.000000</td>\n",
       "      <td>18.000000</td>\n",
       "      <td>2100.000000</td>\n",
       "      <td>1800.000000</td>\n",
       "    </tr>\n",
       "    <tr>\n",
       "      <td>max</td>\n",
       "      <td>20.000000</td>\n",
       "      <td>12.000000</td>\n",
       "      <td>23.000000</td>\n",
       "      <td>5000.000000</td>\n",
       "      <td>5000.000000</td>\n",
       "    </tr>\n",
       "  </tbody>\n",
       "</table>\n",
       "</div>"
      ],
      "text/plain": [
       "              Type        Level         Race          ATK          DEF\n",
       "count  4275.000000  4275.000000  4275.000000  4275.000000  4275.000000\n",
       "mean      3.551813     4.449591    12.017778  1455.553216  1212.318129\n",
       "std       5.883506     2.185045     6.613337   899.165365   802.966529\n",
       "min       0.000000     1.000000     0.000000     0.000000     0.000000\n",
       "25%       0.000000     3.000000     7.000000   800.000000   600.000000\n",
       "50%       0.000000     4.000000    11.000000  1500.000000  1200.000000\n",
       "75%       4.000000     6.000000    18.000000  2100.000000  1800.000000\n",
       "max      20.000000    12.000000    23.000000  5000.000000  5000.000000"
      ]
     },
     "execution_count": 72,
     "metadata": {},
     "output_type": "execute_result"
    }
   ],
   "source": [
    "# import chainer\n",
    "# chainer.print_runtime_info()\n",
    "x = monsters.drop(columns='Attribute')\n",
    "t = monsters[['Attribute']]\n",
    "\n",
    "# class MyML:\n",
    "#     def __init__(self):\n",
    "    \n",
    "#     def convert_to_int_of(column_name):\n",
    "#         kinds = create_kinds_list_of(column_name)\n",
    "#         di = create_kinds_int_dictionary(kinds)\n",
    "#         return t.replace({column_name: di})\n",
    "    \n",
    "def create_kinds_list_of(df, column_name):\n",
    "    return sorted(df[column_name].unique().tolist())\n",
    "    \n",
    "def create_kinds_int_dictionary(kinds):\n",
    "    dict = {}\n",
    "    for kind in kinds:\n",
    "        dict[kind] = kinds.index(kind)\n",
    "        \n",
    "    return dict\n",
    "\n",
    "def convert_to_int_of(df, column_name):\n",
    "    kinds = create_kinds_list_of(df, column_name)\n",
    "    di = create_kinds_int_dictionary(kinds)\n",
    "    return df.replace({column_name: di})\n",
    "\n",
    "# 属性の例: ['DARK', 'DIVINE', 'EARTH', 'FIRE', 'LIGHT', 'WATER', 'WIND']\n",
    "t = convert_to_int_of(t, \"Attribute\")\n",
    "t = t.astype('int32')\n",
    "\n",
    "\n",
    "x = convert_to_int_of(x, \"Type\")\n",
    "x = convert_to_int_of(x, \"Race\")\n",
    "x.head(5)\n",
    "x.describe()"
   ]
  }
 ],
 "metadata": {
  "kernelspec": {
   "display_name": "Python 3",
   "language": "python",
   "name": "python3"
  },
  "language_info": {
   "codemirror_mode": {
    "name": "ipython",
    "version": 3
   },
   "file_extension": ".py",
   "mimetype": "text/x-python",
   "name": "python",
   "nbconvert_exporter": "python",
   "pygments_lexer": "ipython3",
   "version": "3.6.5"
  },
  "pycharm": {
   "stem_cell": {
    "cell_type": "raw",
    "metadata": {
     "collapsed": false
    },
    "source": []
   }
  }
 },
 "nbformat": 4,
 "nbformat_minor": 2
}
